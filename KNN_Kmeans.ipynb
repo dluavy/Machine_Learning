{
 "cells": [
  {
   "cell_type": "markdown",
   "id": "independent-iceland",
   "metadata": {},
   "source": [
    "# This is a notebook analyzing breast cancer data of scikit-learn library\n",
    "   1. conducting exploratory analysis of the data\n",
    "   2. implementing binary classification using K-nearest neighbors Classifiers Algorithm (knn), and detecting if the neoplasom is benign or malignant (supervised classification algorithm)\n",
    "   3. implementing K-means clustering to predict if the neoplasom is benign or malignant (unsupervised classification algorithm)"
   ]
  },
  {
   "cell_type": "code",
   "execution_count": 90,
   "id": "common-pursuit",
   "metadata": {},
   "outputs": [],
   "source": [
    "#import libraries\n",
    "import pandas as pd\n",
    "import numpy as np\n",
    "import matplotlib.pyplot as plt\n",
    "import matplotlib.patches as mpatches\n",
    "from sklearn import datasets, neighbors\n",
    "import seaborn as sns\n",
    "import plotly.express as px\n",
    "import plotly.figure_factory as ff\n",
    "from jupyter_dash import JupyterDash\n",
    "import dash_core_components as dcc\n",
    "import dash_html_components as html\n",
    "from dash.dependencies import Input, Output\n",
    "from plotly.subplots import make_subplots\n",
    "import plotly.graph_objects as go\n",
    "%matplotlib inline"
   ]
  },
  {
   "cell_type": "markdown",
   "id": "centered-trail",
   "metadata": {},
   "source": [
    "## Conducting exploratory analysis to understand the trend, pattern, and distribution of the raw data\n",
    "\n",
    "__1. load in cancer data__"
   ]
  },
  {
   "cell_type": "code",
   "execution_count": 4,
   "id": "later-transition",
   "metadata": {},
   "outputs": [],
   "source": [
    "cancer = datasets.load_breast_cancer()"
   ]
  },
  {
   "cell_type": "markdown",
   "id": "single-patio",
   "metadata": {},
   "source": [
    "__2. summary of bunch object__"
   ]
  },
  {
   "cell_type": "code",
   "execution_count": 23,
   "id": "conservative-publication",
   "metadata": {},
   "outputs": [
    {
     "data": {
      "text/plain": [
       "'.. _breast_cancer_dataset:\\n\\nBreast cancer wisconsin (diagnostic) dataset\\n--------------------------------------------\\n\\n**Data Set Characteristics:**\\n\\n    :Number of Instances: 569\\n\\n    :Number of Attributes: 30 numeric, predictive attributes and the class\\n\\n    :Attribute Information:\\n        - radius (mean of distances from center to points on the perimeter)\\n        - texture (standard deviation of gray-scale values)\\n        - perimeter\\n        - area\\n        - smoothness (local variation in radius lengths)\\n        - compactness (perimeter^2 / area - 1.0)\\n        - concavity (severity of concave portions of the contour)\\n        - concave points (number of concave portions of the contour)\\n        - symmetry\\n        - fractal dimension (\"coastline approximation\" - 1)\\n\\n        The mean, standard error, and \"worst\" or largest (mean of the three\\n        worst/largest values) of these features were computed for each image,\\n        resulting in 30 features.  For instance, field 0 is Mean Radius, field\\n        10 is Radius SE, field 20 is Worst Radius.\\n\\n        - class:\\n                - WDBC-Malignant\\n                - WDBC-Benign\\n\\n    :Summary Statistics:\\n\\n    ===================================== ====== ======\\n                                           Min    Max\\n    ===================================== ====== ======\\n    radius (mean):                        6.981  28.11\\n    texture (mean):                       9.71   39.28\\n    perimeter (mean):                     43.79  188.5\\n    area (mean):                          143.5  2501.0\\n    smoothness (mean):                    0.053  0.163\\n    compactness (mean):                   0.019  0.345\\n    concavity (mean):                     0.0    0.427\\n    concave points (mean):                0.0    0.201\\n    symmetry (mean):                      0.106  0.304\\n    fractal dimension (mean):             0.05   0.097\\n    radius (standard error):              0.112  2.873\\n    texture (standard error):             0.36   4.885\\n    perimeter (standard error):           0.757  21.98\\n    area (standard error):                6.802  542.2\\n    smoothness (standard error):          0.002  0.031\\n    compactness (standard error):         0.002  0.135\\n    concavity (standard error):           0.0    0.396\\n    concave points (standard error):      0.0    0.053\\n    symmetry (standard error):            0.008  0.079\\n    fractal dimension (standard error):   0.001  0.03\\n    radius (worst):                       7.93   36.04\\n    texture (worst):                      12.02  49.54\\n    perimeter (worst):                    50.41  251.2\\n    area (worst):                         185.2  4254.0\\n    smoothness (worst):                   0.071  0.223\\n    compactness (worst):                  0.027  1.058\\n    concavity (worst):                    0.0    1.252\\n    concave points (worst):               0.0    0.291\\n    symmetry (worst):                     0.156  0.664\\n    fractal dimension (worst):            0.055  0.208\\n    ===================================== ====== ======\\n\\n    :Missing Attribute Values: None\\n\\n    :Class Distribution: 212 - Malignant, 357 - Benign\\n\\n    :Creator:  Dr. William H. Wolberg, W. Nick Street, Olvi L. Mangasarian\\n\\n    :Donor: Nick Street\\n\\n    :Date: November, 1995\\n\\nThis is a copy of UCI ML Breast Cancer Wisconsin (Diagnostic) datasets.\\nhttps://goo.gl/U2Uwz2\\n\\nFeatures are computed from a digitized image of a fine needle\\naspirate (FNA) of a breast mass.  They describe\\ncharacteristics of the cell nuclei present in the image.\\n\\nSeparating plane described above was obtained using\\nMultisurface Method-Tree (MSM-T) [K. P. Bennett, \"Decision Tree\\nConstruction Via Linear Programming.\" Proceedings of the 4th\\nMidwest Artificial Intelligence and Cognitive Science Society,\\npp. 97-101, 1992], a classification method which uses linear\\nprogramming to construct a decision tree.  Relevant features\\nwere selected using an exhaustive search in the space of 1-4\\nfeatures and 1-3 separating planes.\\n\\nThe actual linear program used to obtain the separating plane\\nin the 3-dimensional space is that described in:\\n[K. P. Bennett and O. L. Mangasarian: \"Robust Linear\\nProgramming Discrimination of Two Linearly Inseparable Sets\",\\nOptimization Methods and Software 1, 1992, 23-34].\\n\\nThis database is also available through the UW CS ftp server:\\n\\nftp ftp.cs.wisc.edu\\ncd math-prog/cpo-dataset/machine-learn/WDBC/\\n\\n.. topic:: References\\n\\n   - W.N. Street, W.H. Wolberg and O.L. Mangasarian. Nuclear feature extraction \\n     for breast tumor diagnosis. IS&T/SPIE 1993 International Symposium on \\n     Electronic Imaging: Science and Technology, volume 1905, pages 861-870,\\n     San Jose, CA, 1993.\\n   - O.L. Mangasarian, W.N. Street and W.H. Wolberg. Breast cancer diagnosis and \\n     prognosis via linear programming. Operations Research, 43(4), pages 570-577, \\n     July-August 1995.\\n   - W.H. Wolberg, W.N. Street, and O.L. Mangasarian. Machine learning techniques\\n     to diagnose breast cancer from fine-needle aspirates. Cancer Letters 77 (1994) \\n     163-171.'"
      ]
     },
     "execution_count": 23,
     "metadata": {},
     "output_type": "execute_result"
    }
   ],
   "source": [
    "cancer.DESCR"
   ]
  },
  {
   "cell_type": "markdown",
   "id": "moving-ending",
   "metadata": {},
   "source": [
    "__3. summary of the cancer data__"
   ]
  },
  {
   "cell_type": "code",
   "execution_count": null,
   "id": "superb-parliament",
   "metadata": {},
   "outputs": [],
   "source": [
    "print(\"a. The cancer data contains {} observations and {} features\".format(cancer.data.shape[0], cancer.data.shape[1]))\n",
    "print(\"b. There are {} features\".format(cancer.feature_names))\n",
    "print(\"c. Sample size for each category:{}\".format({name:count for name, count in zip(cancer.target_names, np.bincount(cancer.target))}))"
   ]
  },
  {
   "cell_type": "markdown",
   "id": "brilliant-assignment",
   "metadata": {},
   "source": [
    "__4. extract data and convert to dataframe__"
   ]
  },
  {
   "cell_type": "code",
   "execution_count": 5,
   "id": "interesting-system",
   "metadata": {},
   "outputs": [],
   "source": [
    "cancer_dataframe = pd.DataFrame(cancer.data, columns = cancer.feature_names)\n",
    "cancer_dataframe[\"target\"] = cancer.target.tolist()\n",
    "cancer_dataframe[\"target\"] = cancer_dataframe[\"target\"].apply(str)\n",
    "cancer_dataframe.head()\n",
    "#add target_name\n",
    "target_dict = {\"1\": \"benign\", \"0\": \"malignant\"}\n",
    "cancer_dataframe[\"target_name\"] = cancer_dataframe[\"target\"].map(target_dict)"
   ]
  },
  {
   "cell_type": "markdown",
   "id": "straight-edwards",
   "metadata": {},
   "source": [
    "__5. build App to plot relationship between features and/or target categories__"
   ]
  },
  {
   "cell_type": "code",
   "execution_count": null,
   "id": "renewable-lithuania",
   "metadata": {},
   "outputs": [],
   "source": [
    "app = JupyterDash(__name__)\n",
    "app.layout = html.Div([\n",
    "    html.H1(\"Relationship between features and/or targets\"),\n",
    "    dcc.Graph(id=\"scatterplots\"),\n",
    "    html.Label([\n",
    "        \"Features_x\",\n",
    "        dcc.Dropdown(\n",
    "            id=\"Features_x\", clearable=False,\n",
    "            options=[{\"label\": col, \"value\": col} for col in cancer_dataframe.columns.drop(\"target\")])\n",
    "    ]),\n",
    "    html.Label([\n",
    "        \"Features_y\",\n",
    "        dcc.Dropdown(\n",
    "            id=\"Features_y\", clearable=False,\n",
    "            options=[{\"label\": col, \"value\": col} for col in cancer_dataframe.columns.drop(\"target\")])\n",
    "    ]),\n",
    "])\n",
    "#Define callback to update graph\n",
    "@app.callback(\n",
    "    Output(\"scatterplots\", \"figure\"),\n",
    "    [Input(\"Features_x\", \"value\"),\n",
    "     Input(\"Features_y\", \"value\")])\n",
    "\n",
    "#define scatterplot plotting function \n",
    "def scatter_plots(column1, column2):\n",
    "    return px.scatter(cancer_dataframe.drop(columns = \"target\"),\n",
    "                     x = column1, y = column2, color = \"target_name\",\n",
    "                     render_mode = \"WebGL\",\n",
    "                     title = \"<b>{}</b> vs. <b>{}</b>\".format(column1,column2))\n",
    "#run app and diplay scatterplots\n",
    "app.run_server()"
   ]
  },
  {
   "cell_type": "markdown",
   "id": "shaped-extension",
   "metadata": {},
   "source": [
    "## Classification Methods\n",
    "__1. Since the training data is labeled, we can implement K-Nearest Neighbors (KNN) Algorithm to classify newly added observations. KNN is one of the most commonly used supervised machine learning algorithm, and observation will be assign to a class that have most common neighobors among the K (K >= 1) nearest neighbors. KNN is easy to interprete but is restrictive on sample size. Its efficiency would decrease as sample size getting large.__"
   ]
  },
  {
   "cell_type": "code",
   "execution_count": 16,
   "id": "exclusive-bridal",
   "metadata": {},
   "outputs": [],
   "source": [
    "# split the data into training and test sets\n",
    "from sklearn.model_selection import train_test_split\n",
    "# test sample size is 25% as default, and the splited sample keep the proportion of classes as raw data\n",
    "X_train, X_test, y_train, y_test = train_test_split(cancer.data, cancer.target, random_state = 11, stratify = cancer.target) "
   ]
  },
  {
   "cell_type": "markdown",
   "id": "induced-printing",
   "metadata": {},
   "source": [
    "__IN KNN algorithm, we can apply same or different weights to neighbor points, and it mainly depends on the distribution of the data. If the predicted event has the exact same possibility of happening meaning that the random variable follows a uniform distribution. Under this circumstance, we can safely apply \"uniform\" weight to all neighbors no matter how far they are from the predicted point. Otherwise, it would be better to proportionally assign weights to neighbor points as their distance from the query point. In this excercise, I will stick with 'uniform' weight. Also, as the relationship plots between features, I've noticed that the features are on different scales, so I choose distance metric as mahalanobis to allow fair comparison.__\n"
   ]
  },
  {
   "cell_type": "code",
   "execution_count": 17,
   "id": "vital-vintage",
   "metadata": {},
   "outputs": [
    {
     "data": {
      "text/html": [
       "<div>\n",
       "<style scoped>\n",
       "    .dataframe tbody tr th:only-of-type {\n",
       "        vertical-align: middle;\n",
       "    }\n",
       "\n",
       "    .dataframe tbody tr th {\n",
       "        vertical-align: top;\n",
       "    }\n",
       "\n",
       "    .dataframe thead th {\n",
       "        text-align: right;\n",
       "    }\n",
       "</style>\n",
       "<table border=\"1\" class=\"dataframe\">\n",
       "  <thead>\n",
       "    <tr style=\"text-align: right;\">\n",
       "      <th></th>\n",
       "      <th>K_nearest_neighbors</th>\n",
       "      <th>training_accuracy</th>\n",
       "      <th>test_accuracy</th>\n",
       "    </tr>\n",
       "  </thead>\n",
       "  <tbody>\n",
       "    <tr>\n",
       "      <th>0</th>\n",
       "      <td>1.0</td>\n",
       "      <td>1.000000</td>\n",
       "      <td>0.895105</td>\n",
       "    </tr>\n",
       "    <tr>\n",
       "      <th>1</th>\n",
       "      <td>2.0</td>\n",
       "      <td>0.955399</td>\n",
       "      <td>0.867133</td>\n",
       "    </tr>\n",
       "    <tr>\n",
       "      <th>2</th>\n",
       "      <td>3.0</td>\n",
       "      <td>0.938967</td>\n",
       "      <td>0.916084</td>\n",
       "    </tr>\n",
       "    <tr>\n",
       "      <th>3</th>\n",
       "      <td>4.0</td>\n",
       "      <td>0.938967</td>\n",
       "      <td>0.916084</td>\n",
       "    </tr>\n",
       "    <tr>\n",
       "      <th>4</th>\n",
       "      <td>5.0</td>\n",
       "      <td>0.929577</td>\n",
       "      <td>0.930070</td>\n",
       "    </tr>\n",
       "    <tr>\n",
       "      <th>5</th>\n",
       "      <td>6.0</td>\n",
       "      <td>0.934272</td>\n",
       "      <td>0.930070</td>\n",
       "    </tr>\n",
       "    <tr>\n",
       "      <th>6</th>\n",
       "      <td>7.0</td>\n",
       "      <td>0.924883</td>\n",
       "      <td>0.930070</td>\n",
       "    </tr>\n",
       "    <tr>\n",
       "      <th>7</th>\n",
       "      <td>8.0</td>\n",
       "      <td>0.920188</td>\n",
       "      <td>0.930070</td>\n",
       "    </tr>\n",
       "    <tr>\n",
       "      <th>8</th>\n",
       "      <td>9.0</td>\n",
       "      <td>0.920188</td>\n",
       "      <td>0.923077</td>\n",
       "    </tr>\n",
       "    <tr>\n",
       "      <th>9</th>\n",
       "      <td>10.0</td>\n",
       "      <td>0.920188</td>\n",
       "      <td>0.923077</td>\n",
       "    </tr>\n",
       "  </tbody>\n",
       "</table>\n",
       "</div>"
      ],
      "text/plain": [
       "   K_nearest_neighbors  training_accuracy  test_accuracy\n",
       "0                  1.0           1.000000       0.895105\n",
       "1                  2.0           0.955399       0.867133\n",
       "2                  3.0           0.938967       0.916084\n",
       "3                  4.0           0.938967       0.916084\n",
       "4                  5.0           0.929577       0.930070\n",
       "5                  6.0           0.934272       0.930070\n",
       "6                  7.0           0.924883       0.930070\n",
       "7                  8.0           0.920188       0.930070\n",
       "8                  9.0           0.920188       0.923077\n",
       "9                 10.0           0.920188       0.923077"
      ]
     },
     "execution_count": 17,
     "metadata": {},
     "output_type": "execute_result"
    }
   ],
   "source": [
    "#set potential value for nearest neighbors\n",
    "n_neighbors = range(1, 11,1)\n",
    "#keep track of the training accuracy and test accuracy\n",
    "accuracy = pd.DataFrame(columns = [\"K_nearest_neighbors\", \"training_accuracy\", \"test_accuracy\"]) \n",
    "#create classificier instance \n",
    "for k in n_neighbors:\n",
    "    # calculate covariance for mahalanobis distance, referring to https://github.com/yzhao062/pyod/blob/development/examples/knn_mahalanobis_example.py\n",
    "    X_train_cov = np.cov(X_train, rowvar=False)\n",
    "    knn = neighbors.KNeighborsClassifier(n_neighbors = k, metric = 'mahalanobis',  metric_params={'VI': X_train_cov})\n",
    "    #fit the data\n",
    "    knn.fit(X_train, y_train)\n",
    "    #keep track of accuracy\n",
    "    this_data = {\"K_nearest_neighbors\": k, \"training_accuracy\": knn.score(X_train, y_train), \"test_accuracy\": knn.score(X_test, y_test)}\n",
    "    accuracy = accuracy.append(this_data, ignore_index = True)\n",
    "accuracy"
   ]
  },
  {
   "cell_type": "markdown",
   "id": "composite-villa",
   "metadata": {},
   "source": [
    "__Plot training accuracy anc test accuracy__"
   ]
  },
  {
   "cell_type": "code",
   "execution_count": 18,
   "id": "still-profile",
   "metadata": {},
   "outputs": [
    {
     "data": {
      "text/plain": [
       "<matplotlib.legend.Legend at 0x7f95e17d32e0>"
      ]
     },
     "execution_count": 18,
     "metadata": {},
     "output_type": "execute_result"
    },
    {
     "data": {
      "image/png": "[encoded data removed]",
      "text/plain": [
       "<Figure size 432x288 with 1 Axes>"
      ]
     },
     "metadata": {
      "needs_background": "light"
     },
     "output_type": "display_data"
    }
   ],
   "source": [
    "plt.plot( \"K_nearest_neighbors\", \"training_accuracy\", data= accuracy, linewidth=2, color='olive',linestyle='solid')\n",
    "plt.plot( \"K_nearest_neighbors\", \"test_accuracy\", data= accuracy, linewidth=2, color='blue',linestyle='dashed')\n",
    "plt.legend()"
   ]
  },
  {
   "cell_type": "markdown",
   "id": "legitimate-rainbow",
   "metadata": {},
   "source": [
    "__Plot decision boundaries for testing set when k equals to 3, 6, 9 for selected features__"
   ]
  },
  {
   "cell_type": "code",
   "execution_count": 91,
   "id": "handy-telephone",
   "metadata": {},
   "outputs": [],
   "source": [
    "\n",
    "#define scatterplot plotting function \n",
    "def decision_boundary(ax, k, Features_x, Features_y):\n",
    "    ax = ax\n",
    "    X = cancer_dataframe[[Features_x, Features_y]]\n",
    "    y = cancer_dataframe.target\n",
    "    X_cov = np.cov(X, rowvar=False)\n",
    "    knn = neighbors.KNeighborsClassifier(n_neighbors = k, metric = 'mahalanobis',  metric_params={'VI': X_cov})\n",
    "    #fit the data\n",
    "    knn.fit(X, y)\n",
    "    \n",
    "    #Plot the decision boundary\n",
    "    #define the boundary of the mesh\n",
    "    h = .02  # step size in the mesh\n",
    "    # define coordinates\n",
    "    x_min, x_max = X.iloc[:, 0].min() - 0.5, X.iloc[:, 0].max() + 0.5\n",
    "    y_min, y_max = X.iloc[:, 1].min() - 0.5, X.iloc[:, 1].max() + 0.5\n",
    "    xx, yy = np.meshgrid(np.arange(x_min, x_max, h),\n",
    "                         np.arange(y_min, y_max, h))\n",
    "    #define height value for the filled contour plot \n",
    "    Z = knn.predict(np.c_[xx.ravel(), yy.ravel()]).reshape(xx.shape)\n",
    "    Z = Z.reshape(xx.shape)\n",
    "    #plot contours\n",
    "    cmap = cm = plt.get_cmap('Pastel2') \n",
    "    ax.contourf(xx, yy, Z,cmap=cmap, alpha = 0.5)\n",
    "    \n",
    "    ax.set_xlabel(Features_x)\n",
    "    ax.set_ylabel(Features_y) \n",
    "    ax.set_xlim(xx.min(), xx.max())\n",
    "    ax.set_ylim(yy.min(), yy.max())\n",
    "    colors = {'malignant':cmap.colors[0], 'benign':cmap.colors[2]}\n",
    "\n",
    "    #Plot the data points\n",
    "    scatter = ax.scatter(x = cancer_dataframe.drop(columns = \"target\")[Features_x],  y= cancer_dataframe.drop(columns = \"target\")[Features_y], \n",
    "                c = cancer_dataframe.drop(columns = \"target\")['target_name'].map(colors), edgecolor=\"black\", label = cancer_dataframe.drop(columns = \"target\")['target_name'])\n",
    "    ax.set_title('{} neighbors'.format(k))\n",
    "    a = mpatches.Patch(color=cmap.colors[0], label='malignant')\n",
    "    b = mpatches.Patch(color=cmap.colors[2], label='benign')\n",
    "\n",
    "    ax.legend(handles=[a,b])\n"
   ]
  },
  {
   "cell_type": "code",
   "execution_count": 92,
   "id": "proper-window",
   "metadata": {},
   "outputs": [
    {
     "data": {
      "image/png": "[encoded data removed]",
      "text/plain": [
       "<Figure size 1080x216 with 3 Axes>"
      ]
     },
     "metadata": {
      "needs_background": "light"
     },
     "output_type": "display_data"
    }
   ],
   "source": [
    "fig, axes = plt.subplots(1,3, figsize = (15, 3), sharey= True)\n",
    "for k, ax in zip([3,6,9], axes):\n",
    "   decision_boundary(ax = ax, k = k, Features_x = 'mean smoothness', Features_y = 'mean compactness')\n",
    "   "
   ]
  },
  {
   "cell_type": "code",
   "execution_count": null,
   "id": "endangered-rwanda",
   "metadata": {},
   "outputs": [],
   "source": []
  }
 ],
 "metadata": {
  "kernelspec": {
   "display_name": "Python 3",
   "language": "python",
   "name": "python3"
  },
  "language_info": {
   "codemirror_mode": {
    "name": "ipython",
    "version": 3
   },
   "file_extension": ".py",
   "mimetype": "text/x-python",
   "name": "python",
   "nbconvert_exporter": "python",
   "pygments_lexer": "ipython3",
   "version": "3.8.2"
  }
 },
 "nbformat": 4,
 "nbformat_minor": 5
}
